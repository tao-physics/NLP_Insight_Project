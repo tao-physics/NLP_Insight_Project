{
 "cells": [
  {
   "cell_type": "code",
   "execution_count": 1,
   "metadata": {},
   "outputs": [],
   "source": [
    "from sklearn.metrics import accuracy_score, classification_report, multilabel_confusion_matrix\n",
    "from sklearn.metrics import precision_recall_fscore_support\n",
    "\n",
    "import pandas as pd\n",
    "import numpy as np\n",
    "\n",
    "import os"
   ]
  },
  {
   "cell_type": "code",
   "execution_count": 2,
   "metadata": {},
   "outputs": [
    {
     "data": {
      "text/plain": [
       "['pred_label.csv']"
      ]
     },
     "execution_count": 2,
     "metadata": {},
     "output_type": "execute_result"
    }
   ],
   "source": [
    "os.listdir('./output')"
   ]
  },
  {
   "cell_type": "code",
   "execution_count": 3,
   "metadata": {},
   "outputs": [],
   "source": [
    "data_pred = pd.read_csv('./output/pred_label.csv')"
   ]
  },
  {
   "cell_type": "code",
   "execution_count": 4,
   "metadata": {},
   "outputs": [
    {
     "data": {
      "text/html": [
       "<div>\n",
       "<style scoped>\n",
       "    .dataframe tbody tr th:only-of-type {\n",
       "        vertical-align: middle;\n",
       "    }\n",
       "\n",
       "    .dataframe tbody tr th {\n",
       "        vertical-align: top;\n",
       "    }\n",
       "\n",
       "    .dataframe thead th {\n",
       "        text-align: right;\n",
       "    }\n",
       "</style>\n",
       "<table border=\"1\" class=\"dataframe\">\n",
       "  <thead>\n",
       "    <tr style=\"text-align: right;\">\n",
       "      <th></th>\n",
       "      <th>Unnamed: 0</th>\n",
       "      <th>Participant ID</th>\n",
       "      <th>Question ID</th>\n",
       "      <th>Comment</th>\n",
       "      <th>Label</th>\n",
       "      <th>Sentiment</th>\n",
       "      <th>Label_encoded</th>\n",
       "      <th>Sentiment_encoded</th>\n",
       "      <th>label_pred</th>\n",
       "    </tr>\n",
       "  </thead>\n",
       "  <tbody>\n",
       "    <tr>\n",
       "      <th>0</th>\n",
       "      <td>6314</td>\n",
       "      <td>93505</td>\n",
       "      <td>One Change</td>\n",
       "      <td>Not a thing!</td>\n",
       "      <td>No answer/Nothing</td>\n",
       "      <td>No answer/Nothing</td>\n",
       "      <td>10</td>\n",
       "      <td>1</td>\n",
       "      <td>10</td>\n",
       "    </tr>\n",
       "    <tr>\n",
       "      <th>1</th>\n",
       "      <td>3072</td>\n",
       "      <td>88</td>\n",
       "      <td>Unique / Unusual</td>\n",
       "      <td>I do appreciate the Christian heritage of this...</td>\n",
       "      <td>Inspiring Work/Place; Quality</td>\n",
       "      <td>Positive</td>\n",
       "      <td>7</td>\n",
       "      <td>2</td>\n",
       "      <td>7</td>\n",
       "    </tr>\n",
       "    <tr>\n",
       "      <th>2</th>\n",
       "      <td>6221</td>\n",
       "      <td>92816</td>\n",
       "      <td>One Change</td>\n",
       "      <td>There is really nothing I would change.</td>\n",
       "      <td>No answer/Nothing</td>\n",
       "      <td>No answer/Nothing</td>\n",
       "      <td>10</td>\n",
       "      <td>1</td>\n",
       "      <td>10</td>\n",
       "    </tr>\n",
       "    <tr>\n",
       "      <th>3</th>\n",
       "      <td>5604</td>\n",
       "      <td>74557</td>\n",
       "      <td>Unique / Unusual</td>\n",
       "      <td>nothing that stands out</td>\n",
       "      <td>No answer/Nothing</td>\n",
       "      <td>Positive</td>\n",
       "      <td>10</td>\n",
       "      <td>2</td>\n",
       "      <td>10</td>\n",
       "    </tr>\n",
       "    <tr>\n",
       "      <th>4</th>\n",
       "      <td>4591</td>\n",
       "      <td>74370</td>\n",
       "      <td>One Change</td>\n",
       "      <td>Managers being accessible, not Rude , not cond...</td>\n",
       "      <td>Management Reliability/Integrity</td>\n",
       "      <td>Negative</td>\n",
       "      <td>9</td>\n",
       "      <td>0</td>\n",
       "      <td>9</td>\n",
       "    </tr>\n",
       "  </tbody>\n",
       "</table>\n",
       "</div>"
      ],
      "text/plain": [
       "   Unnamed: 0  Participant ID       Question ID  \\\n",
       "0        6314           93505        One Change   \n",
       "1        3072              88  Unique / Unusual   \n",
       "2        6221           92816        One Change   \n",
       "3        5604           74557  Unique / Unusual   \n",
       "4        4591           74370        One Change   \n",
       "\n",
       "                                             Comment  \\\n",
       "0                                       Not a thing!   \n",
       "1  I do appreciate the Christian heritage of this...   \n",
       "2          There is really nothing I would change.     \n",
       "3                           nothing that stands out    \n",
       "4  Managers being accessible, not Rude , not cond...   \n",
       "\n",
       "                              Label          Sentiment  Label_encoded  \\\n",
       "0                 No answer/Nothing  No answer/Nothing             10   \n",
       "1     Inspiring Work/Place; Quality           Positive              7   \n",
       "2                 No answer/Nothing  No answer/Nothing             10   \n",
       "3                 No answer/Nothing           Positive             10   \n",
       "4  Management Reliability/Integrity           Negative              9   \n",
       "\n",
       "   Sentiment_encoded  label_pred  \n",
       "0                  1          10  \n",
       "1                  2           7  \n",
       "2                  1          10  \n",
       "3                  2          10  \n",
       "4                  0           9  "
      ]
     },
     "execution_count": 4,
     "metadata": {},
     "output_type": "execute_result"
    }
   ],
   "source": [
    "data_pred.head()"
   ]
  },
  {
   "cell_type": "code",
   "execution_count": 5,
   "metadata": {},
   "outputs": [
    {
     "name": "stdout",
     "output_type": "stream",
     "text": [
      "              precision    recall  f1-score   support\n",
      "\n",
      "           0       0.78      0.55      0.65        58\n",
      "           1       0.55      0.64      0.59        28\n",
      "           2       0.75      0.82      0.78       101\n",
      "           3       0.74      0.79      0.76       267\n",
      "           4       0.69      0.74      0.71       107\n",
      "           5       0.00      0.00      0.00        14\n",
      "           6       0.87      0.85      0.86       204\n",
      "           7       0.74      0.72      0.73       271\n",
      "           8       0.71      0.83      0.76        35\n",
      "           9       0.77      0.84      0.80       230\n",
      "          10       0.95      0.96      0.96       279\n",
      "          11       1.00      0.11      0.19        19\n",
      "          12       0.80      0.75      0.77       112\n",
      "          13       0.70      0.64      0.67        22\n",
      "\n",
      "    accuracy                           0.79      1747\n",
      "   macro avg       0.72      0.66      0.66      1747\n",
      "weighted avg       0.79      0.79      0.78      1747\n",
      "\n"
     ]
    },
    {
     "name": "stderr",
     "output_type": "stream",
     "text": [
      "C:\\Users\\taore\\Anaconda3\\lib\\site-packages\\sklearn\\metrics\\classification.py:1437: UndefinedMetricWarning: Precision and F-score are ill-defined and being set to 0.0 in labels with no predicted samples.\n",
      "  'precision', 'predicted', average, warn_for)\n"
     ]
    }
   ],
   "source": [
    "print(classification_report(data_pred['Label_encoded'], data_pred['label_pred']))"
   ]
  },
  {
   "cell_type": "code",
   "execution_count": null,
   "metadata": {},
   "outputs": [],
   "source": []
  },
  {
   "cell_type": "code",
   "execution_count": null,
   "metadata": {},
   "outputs": [],
   "source": []
  },
  {
   "cell_type": "code",
   "execution_count": null,
   "metadata": {},
   "outputs": [],
   "source": []
  },
  {
   "cell_type": "code",
   "execution_count": 8,
   "metadata": {},
   "outputs": [],
   "source": [
    "data_fold = pd.read_csv('./input/train_folds.csv')"
   ]
  },
  {
   "cell_type": "code",
   "execution_count": 9,
   "metadata": {},
   "outputs": [
    {
     "data": {
      "text/html": [
       "<div>\n",
       "<style scoped>\n",
       "    .dataframe tbody tr th:only-of-type {\n",
       "        vertical-align: middle;\n",
       "    }\n",
       "\n",
       "    .dataframe tbody tr th {\n",
       "        vertical-align: top;\n",
       "    }\n",
       "\n",
       "    .dataframe thead th {\n",
       "        text-align: right;\n",
       "    }\n",
       "</style>\n",
       "<table border=\"1\" class=\"dataframe\">\n",
       "  <thead>\n",
       "    <tr style=\"text-align: right;\">\n",
       "      <th></th>\n",
       "      <th>Unnamed: 0</th>\n",
       "      <th>Participant ID</th>\n",
       "      <th>Question ID</th>\n",
       "      <th>Comment</th>\n",
       "      <th>Label</th>\n",
       "      <th>Sentiment</th>\n",
       "      <th>Label_encoded</th>\n",
       "      <th>Sentiment_encoded</th>\n",
       "      <th>kfold</th>\n",
       "    </tr>\n",
       "  </thead>\n",
       "  <tbody>\n",
       "    <tr>\n",
       "      <th>0</th>\n",
       "      <td>3512</td>\n",
       "      <td>74987</td>\n",
       "      <td>Unique / Unusual</td>\n",
       "      <td>The facility is very nice compared to others.</td>\n",
       "      <td>Inspiring Work/Place; Quality</td>\n",
       "      <td>Positive</td>\n",
       "      <td>7</td>\n",
       "      <td>2</td>\n",
       "      <td>0</td>\n",
       "    </tr>\n",
       "    <tr>\n",
       "      <th>1</th>\n",
       "      <td>4017</td>\n",
       "      <td>93186</td>\n",
       "      <td>Unique / Unusual</td>\n",
       "      <td>Trusting and supportive working environment. I...</td>\n",
       "      <td>Inspiring Work/Place; Quality</td>\n",
       "      <td>Positive</td>\n",
       "      <td>7</td>\n",
       "      <td>2</td>\n",
       "      <td>0</td>\n",
       "    </tr>\n",
       "    <tr>\n",
       "      <th>2</th>\n",
       "      <td>215</td>\n",
       "      <td>56343</td>\n",
       "      <td>Unique / Unusual</td>\n",
       "      <td>I love how everyone works together as a team a...</td>\n",
       "      <td>Balancing Personal/Productivity (including tim...</td>\n",
       "      <td>Positive</td>\n",
       "      <td>1</td>\n",
       "      <td>2</td>\n",
       "      <td>0</td>\n",
       "    </tr>\n",
       "    <tr>\n",
       "      <th>3</th>\n",
       "      <td>209</td>\n",
       "      <td>94365</td>\n",
       "      <td>One Change</td>\n",
       "      <td>more recognition for employees with longevity ...</td>\n",
       "      <td>Appreciation/Recognition</td>\n",
       "      <td>Negative</td>\n",
       "      <td>0</td>\n",
       "      <td>0</td>\n",
       "      <td>0</td>\n",
       "    </tr>\n",
       "    <tr>\n",
       "      <th>4</th>\n",
       "      <td>6303</td>\n",
       "      <td>93451</td>\n",
       "      <td>Unique / Unusual</td>\n",
       "      <td>Great Place overall!</td>\n",
       "      <td>No answer/Nothing</td>\n",
       "      <td>No answer/Nothing</td>\n",
       "      <td>10</td>\n",
       "      <td>1</td>\n",
       "      <td>0</td>\n",
       "    </tr>\n",
       "  </tbody>\n",
       "</table>\n",
       "</div>"
      ],
      "text/plain": [
       "   Unnamed: 0  Participant ID       Question ID  \\\n",
       "0        3512           74987  Unique / Unusual   \n",
       "1        4017           93186  Unique / Unusual   \n",
       "2         215           56343  Unique / Unusual   \n",
       "3         209           94365        One Change   \n",
       "4        6303           93451  Unique / Unusual   \n",
       "\n",
       "                                             Comment  \\\n",
       "0      The facility is very nice compared to others.   \n",
       "1  Trusting and supportive working environment. I...   \n",
       "2  I love how everyone works together as a team a...   \n",
       "3  more recognition for employees with longevity ...   \n",
       "4                              Great Place overall!    \n",
       "\n",
       "                                               Label          Sentiment  \\\n",
       "0                      Inspiring Work/Place; Quality           Positive   \n",
       "1                      Inspiring Work/Place; Quality           Positive   \n",
       "2  Balancing Personal/Productivity (including tim...           Positive   \n",
       "3                           Appreciation/Recognition           Negative   \n",
       "4                                  No answer/Nothing  No answer/Nothing   \n",
       "\n",
       "   Label_encoded  Sentiment_encoded  kfold  \n",
       "0              7                  2      0  \n",
       "1              7                  2      0  \n",
       "2              1                  2      0  \n",
       "3              0                  0      0  \n",
       "4             10                  1      0  "
      ]
     },
     "execution_count": 9,
     "metadata": {},
     "output_type": "execute_result"
    }
   ],
   "source": [
    "data_fold.head()"
   ]
  },
  {
   "cell_type": "code",
   "execution_count": 15,
   "metadata": {},
   "outputs": [
    {
     "data": {
      "text/plain": [
       "array([ 5,  4, 11,  6, 11, 14,  2,  0,  1,  2,  7,  8,  6,  8,  9,  8,  4,\n",
       "        2, 12,  0])"
      ]
     },
     "execution_count": 15,
     "metadata": {},
     "output_type": "execute_result"
    }
   ],
   "source": [
    "np.random.randint(low=0, high=15, size=20)"
   ]
  },
  {
   "cell_type": "code",
   "execution_count": 16,
   "metadata": {},
   "outputs": [],
   "source": [
    "predict_made = np.random.randint(low=0, high=15, size=len(data_fold))"
   ]
  },
  {
   "cell_type": "code",
   "execution_count": 18,
   "metadata": {},
   "outputs": [
    {
     "data": {
      "text/plain": [
       "0.06678114863575653"
      ]
     },
     "execution_count": 18,
     "metadata": {},
     "output_type": "execute_result"
    }
   ],
   "source": [
    "accuracy_score(data_fold['Label_encoded'], predict_made)"
   ]
  },
  {
   "cell_type": "code",
   "execution_count": 17,
   "metadata": {},
   "outputs": [
    {
     "name": "stdout",
     "output_type": "stream",
     "text": [
      "              precision    recall  f1-score   support\n",
      "\n",
      "           0       0.02      0.05      0.03       154\n",
      "           1       0.01      0.04      0.01        73\n",
      "           2       0.05      0.06      0.06       262\n",
      "           3       0.15      0.07      0.10       743\n",
      "           4       0.09      0.09      0.09       364\n",
      "           5       0.01      0.09      0.01        22\n",
      "           6       0.12      0.06      0.08       664\n",
      "           7       0.16      0.07      0.09       807\n",
      "           8       0.02      0.06      0.03       113\n",
      "           9       0.14      0.07      0.09       746\n",
      "          10       0.17      0.07      0.10       887\n",
      "          11       0.01      0.05      0.01        40\n",
      "          12       0.04      0.05      0.05       280\n",
      "          13       0.01      0.06      0.02        85\n",
      "          14       0.00      0.00      0.00         1\n",
      "\n",
      "    accuracy                           0.07      5241\n",
      "   macro avg       0.07      0.06      0.05      5241\n",
      "weighted avg       0.12      0.07      0.08      5241\n",
      "\n"
     ]
    }
   ],
   "source": [
    "print(classification_report(data_fold['Label_encoded'], predict_made))"
   ]
  },
  {
   "cell_type": "code",
   "execution_count": 11,
   "metadata": {},
   "outputs": [
    {
     "data": {
      "text/plain": [
       "(15, 3)"
      ]
     },
     "execution_count": 11,
     "metadata": {},
     "output_type": "execute_result"
    }
   ],
   "source": [
    "data_fold['Label_encoded'].nunique(), data_fold['Sentiment_encoded'].nunique()"
   ]
  },
  {
   "cell_type": "code",
   "execution_count": 13,
   "metadata": {},
   "outputs": [
    {
     "name": "stdout",
     "output_type": "stream",
     "text": [
      "              precision    recall  f1-score   support\n",
      "\n",
      "           0       1.00      1.00      1.00       154\n",
      "           1       1.00      1.00      1.00        73\n",
      "           2       1.00      1.00      1.00       262\n",
      "           3       1.00      1.00      1.00       743\n",
      "           4       1.00      1.00      1.00       364\n",
      "           5       1.00      1.00      1.00        22\n",
      "           6       1.00      1.00      1.00       664\n",
      "           7       1.00      1.00      1.00       807\n",
      "           8       1.00      1.00      1.00       113\n",
      "           9       1.00      1.00      1.00       746\n",
      "          10       1.00      1.00      1.00       887\n",
      "          11       1.00      1.00      1.00        40\n",
      "          12       1.00      1.00      1.00       280\n",
      "          13       1.00      1.00      1.00        85\n",
      "          14       1.00      1.00      1.00         1\n",
      "\n",
      "    accuracy                           1.00      5241\n",
      "   macro avg       1.00      1.00      1.00      5241\n",
      "weighted avg       1.00      1.00      1.00      5241\n",
      "\n"
     ]
    }
   ],
   "source": [
    "print(classification_report(data_fold['Label_encoded'], data_fold['Label_encoded']))"
   ]
  },
  {
   "cell_type": "code",
   "execution_count": null,
   "metadata": {},
   "outputs": [],
   "source": []
  }
 ],
 "metadata": {
  "kernelspec": {
   "display_name": "Python 3",
   "language": "python",
   "name": "python3"
  },
  "language_info": {
   "codemirror_mode": {
    "name": "ipython",
    "version": 3
   },
   "file_extension": ".py",
   "mimetype": "text/x-python",
   "name": "python",
   "nbconvert_exporter": "python",
   "pygments_lexer": "ipython3",
   "version": "3.6.9"
  }
 },
 "nbformat": 4,
 "nbformat_minor": 2
}
